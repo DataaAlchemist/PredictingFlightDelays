{
 "cells": [
  {
   "cell_type": "code",
   "execution_count": 2,
   "metadata": {},
   "outputs": [],
   "source": [
    "import pandas as pd\n",
    "import numpy as np\n",
    "\n",
    "import matplotlib.pyplot as plt\n",
    "import seaborn as sns\n",
    "import plotly.express as px\n",
    "\n",
    "sns.set_style('whitegrid')\n",
    "pd.set_option('display.max_columns', 100)"
   ]
  },
  {
   "cell_type": "code",
   "execution_count": 9,
   "metadata": {},
   "outputs": [
    {
     "name": "stderr",
     "output_type": "stream",
     "text": [
      "/var/folders/8l/_qddcffx71x8s26pmmgqthdm0000gq/T/ipykernel_23305/648578119.py:1: DtypeWarning: Columns (7,8,18,21,27) have mixed types. Specify dtype option on import or set low_memory=False.\n",
      "  df = pd.read_csv('../data/processed/flights_weather.csv')\n"
     ]
    },
    {
     "data": {
      "text/html": [
       "<div>\n",
       "<style scoped>\n",
       "    .dataframe tbody tr th:only-of-type {\n",
       "        vertical-align: middle;\n",
       "    }\n",
       "\n",
       "    .dataframe tbody tr th {\n",
       "        vertical-align: top;\n",
       "    }\n",
       "\n",
       "    .dataframe thead th {\n",
       "        text-align: right;\n",
       "    }\n",
       "</style>\n",
       "<table border=\"1\" class=\"dataframe\">\n",
       "  <thead>\n",
       "    <tr style=\"text-align: right;\">\n",
       "      <th></th>\n",
       "      <th>Year</th>\n",
       "      <th>Month</th>\n",
       "      <th>Day</th>\n",
       "      <th>DayOfWeek</th>\n",
       "      <th>FlightNumber</th>\n",
       "      <th>AirlineCode</th>\n",
       "      <th>TailNumber</th>\n",
       "      <th>OriginAirport</th>\n",
       "      <th>DestinationAirport</th>\n",
       "      <th>DepartureTime</th>\n",
       "      <th>ArrivalTime</th>\n",
       "      <th>AirTime</th>\n",
       "      <th>Distance</th>\n",
       "      <th>DepartureDelay</th>\n",
       "      <th>ArrivalDelay</th>\n",
       "      <th>Diverted</th>\n",
       "      <th>WeatherDelay</th>\n",
       "      <th>AirlineName</th>\n",
       "      <th>DestinationAirportName</th>\n",
       "      <th>FlightDate</th>\n",
       "      <th>Delayed</th>\n",
       "      <th>Date</th>\n",
       "      <th>Awnd</th>\n",
       "      <th>Prcp</th>\n",
       "      <th>Snow</th>\n",
       "      <th>Tmax</th>\n",
       "      <th>Tmin</th>\n",
       "      <th>AirportCode</th>\n",
       "    </tr>\n",
       "  </thead>\n",
       "  <tbody>\n",
       "    <tr>\n",
       "      <th>0</th>\n",
       "      <td>2015</td>\n",
       "      <td>10</td>\n",
       "      <td>1</td>\n",
       "      <td>4</td>\n",
       "      <td>2582</td>\n",
       "      <td>DL</td>\n",
       "      <td>N993AT</td>\n",
       "      <td>10397</td>\n",
       "      <td>10135</td>\n",
       "      <td>2103.0</td>\n",
       "      <td>2257.0</td>\n",
       "      <td>88.0</td>\n",
       "      <td>692</td>\n",
       "      <td>-3.0</td>\n",
       "      <td>-14.0</td>\n",
       "      <td>0</td>\n",
       "      <td>0.0</td>\n",
       "      <td>Delta Air Lines Inc.</td>\n",
       "      <td>NaN</td>\n",
       "      <td>2015-10-01</td>\n",
       "      <td>False</td>\n",
       "      <td>NaN</td>\n",
       "      <td>NaN</td>\n",
       "      <td>NaN</td>\n",
       "      <td>NaN</td>\n",
       "      <td>NaN</td>\n",
       "      <td>NaN</td>\n",
       "      <td>NaN</td>\n",
       "    </tr>\n",
       "    <tr>\n",
       "      <th>1</th>\n",
       "      <td>2015</td>\n",
       "      <td>10</td>\n",
       "      <td>1</td>\n",
       "      <td>4</td>\n",
       "      <td>4940</td>\n",
       "      <td>EV</td>\n",
       "      <td>N851AS</td>\n",
       "      <td>10397</td>\n",
       "      <td>10135</td>\n",
       "      <td>1024.0</td>\n",
       "      <td>1216.0</td>\n",
       "      <td>92.0</td>\n",
       "      <td>692</td>\n",
       "      <td>-3.0</td>\n",
       "      <td>-14.0</td>\n",
       "      <td>0</td>\n",
       "      <td>0.0</td>\n",
       "      <td>Atlantic Southeast Airlines</td>\n",
       "      <td>NaN</td>\n",
       "      <td>2015-10-01</td>\n",
       "      <td>False</td>\n",
       "      <td>NaN</td>\n",
       "      <td>NaN</td>\n",
       "      <td>NaN</td>\n",
       "      <td>NaN</td>\n",
       "      <td>NaN</td>\n",
       "      <td>NaN</td>\n",
       "      <td>NaN</td>\n",
       "    </tr>\n",
       "    <tr>\n",
       "      <th>2</th>\n",
       "      <td>2015</td>\n",
       "      <td>10</td>\n",
       "      <td>1</td>\n",
       "      <td>4</td>\n",
       "      <td>5969</td>\n",
       "      <td>EV</td>\n",
       "      <td>N11551</td>\n",
       "      <td>13930</td>\n",
       "      <td>10135</td>\n",
       "      <td>1353.0</td>\n",
       "      <td>1658.0</td>\n",
       "      <td>91.0</td>\n",
       "      <td>655</td>\n",
       "      <td>-4.0</td>\n",
       "      <td>6.0</td>\n",
       "      <td>0</td>\n",
       "      <td>0.0</td>\n",
       "      <td>Atlantic Southeast Airlines</td>\n",
       "      <td>NaN</td>\n",
       "      <td>2015-10-01</td>\n",
       "      <td>False</td>\n",
       "      <td>NaN</td>\n",
       "      <td>NaN</td>\n",
       "      <td>NaN</td>\n",
       "      <td>NaN</td>\n",
       "      <td>NaN</td>\n",
       "      <td>NaN</td>\n",
       "      <td>NaN</td>\n",
       "    </tr>\n",
       "    <tr>\n",
       "      <th>3</th>\n",
       "      <td>2015</td>\n",
       "      <td>10</td>\n",
       "      <td>1</td>\n",
       "      <td>4</td>\n",
       "      <td>5151</td>\n",
       "      <td>EV</td>\n",
       "      <td>N858AS</td>\n",
       "      <td>11433</td>\n",
       "      <td>10135</td>\n",
       "      <td>1359.0</td>\n",
       "      <td>1521.0</td>\n",
       "      <td>62.0</td>\n",
       "      <td>425</td>\n",
       "      <td>-3.0</td>\n",
       "      <td>-8.0</td>\n",
       "      <td>0</td>\n",
       "      <td>0.0</td>\n",
       "      <td>Atlantic Southeast Airlines</td>\n",
       "      <td>NaN</td>\n",
       "      <td>2015-10-01</td>\n",
       "      <td>False</td>\n",
       "      <td>NaN</td>\n",
       "      <td>NaN</td>\n",
       "      <td>NaN</td>\n",
       "      <td>NaN</td>\n",
       "      <td>NaN</td>\n",
       "      <td>NaN</td>\n",
       "      <td>NaN</td>\n",
       "    </tr>\n",
       "    <tr>\n",
       "      <th>4</th>\n",
       "      <td>2015</td>\n",
       "      <td>10</td>\n",
       "      <td>1</td>\n",
       "      <td>4</td>\n",
       "      <td>5197</td>\n",
       "      <td>EV</td>\n",
       "      <td>N849AS</td>\n",
       "      <td>10397</td>\n",
       "      <td>10135</td>\n",
       "      <td>1444.0</td>\n",
       "      <td>1645.0</td>\n",
       "      <td>102.0</td>\n",
       "      <td>692</td>\n",
       "      <td>0.0</td>\n",
       "      <td>-1.0</td>\n",
       "      <td>0</td>\n",
       "      <td>0.0</td>\n",
       "      <td>Atlantic Southeast Airlines</td>\n",
       "      <td>NaN</td>\n",
       "      <td>2015-10-01</td>\n",
       "      <td>False</td>\n",
       "      <td>NaN</td>\n",
       "      <td>NaN</td>\n",
       "      <td>NaN</td>\n",
       "      <td>NaN</td>\n",
       "      <td>NaN</td>\n",
       "      <td>NaN</td>\n",
       "      <td>NaN</td>\n",
       "    </tr>\n",
       "  </tbody>\n",
       "</table>\n",
       "</div>"
      ],
      "text/plain": [
       "   Year  Month  Day  DayOfWeek  FlightNumber AirlineCode TailNumber  \\\n",
       "0  2015     10    1          4          2582          DL     N993AT   \n",
       "1  2015     10    1          4          4940          EV     N851AS   \n",
       "2  2015     10    1          4          5969          EV     N11551   \n",
       "3  2015     10    1          4          5151          EV     N858AS   \n",
       "4  2015     10    1          4          5197          EV     N849AS   \n",
       "\n",
       "  OriginAirport DestinationAirport  DepartureTime  ArrivalTime  AirTime  \\\n",
       "0         10397              10135         2103.0       2257.0     88.0   \n",
       "1         10397              10135         1024.0       1216.0     92.0   \n",
       "2         13930              10135         1353.0       1658.0     91.0   \n",
       "3         11433              10135         1359.0       1521.0     62.0   \n",
       "4         10397              10135         1444.0       1645.0    102.0   \n",
       "\n",
       "   Distance  DepartureDelay  ArrivalDelay  Diverted  WeatherDelay  \\\n",
       "0       692            -3.0         -14.0         0           0.0   \n",
       "1       692            -3.0         -14.0         0           0.0   \n",
       "2       655            -4.0           6.0         0           0.0   \n",
       "3       425            -3.0          -8.0         0           0.0   \n",
       "4       692             0.0          -1.0         0           0.0   \n",
       "\n",
       "                   AirlineName DestinationAirportName  FlightDate  Delayed  \\\n",
       "0         Delta Air Lines Inc.                    NaN  2015-10-01    False   \n",
       "1  Atlantic Southeast Airlines                    NaN  2015-10-01    False   \n",
       "2  Atlantic Southeast Airlines                    NaN  2015-10-01    False   \n",
       "3  Atlantic Southeast Airlines                    NaN  2015-10-01    False   \n",
       "4  Atlantic Southeast Airlines                    NaN  2015-10-01    False   \n",
       "\n",
       "  Date  Awnd  Prcp  Snow  Tmax  Tmin AirportCode  \n",
       "0  NaN   NaN   NaN   NaN   NaN   NaN         NaN  \n",
       "1  NaN   NaN   NaN   NaN   NaN   NaN         NaN  \n",
       "2  NaN   NaN   NaN   NaN   NaN   NaN         NaN  \n",
       "3  NaN   NaN   NaN   NaN   NaN   NaN         NaN  \n",
       "4  NaN   NaN   NaN   NaN   NaN   NaN         NaN  "
      ]
     },
     "execution_count": 9,
     "metadata": {},
     "output_type": "execute_result"
    }
   ],
   "source": [
    "df = pd.read_csv('../data/processed/flights_weather.csv')\n",
    "df.head()"
   ]
  },
  {
   "cell_type": "code",
   "execution_count": 10,
   "metadata": {},
   "outputs": [
    {
     "data": {
      "text/html": [
       "<div>\n",
       "<style scoped>\n",
       "    .dataframe tbody tr th:only-of-type {\n",
       "        vertical-align: middle;\n",
       "    }\n",
       "\n",
       "    .dataframe tbody tr th {\n",
       "        vertical-align: top;\n",
       "    }\n",
       "\n",
       "    .dataframe thead th {\n",
       "        text-align: right;\n",
       "    }\n",
       "</style>\n",
       "<table border=\"1\" class=\"dataframe\">\n",
       "  <thead>\n",
       "    <tr style=\"text-align: right;\">\n",
       "      <th></th>\n",
       "      <th>FlightNumber</th>\n",
       "      <th>DepartureTime</th>\n",
       "      <th>ArrivalTime</th>\n",
       "      <th>AirTime</th>\n",
       "      <th>Distance</th>\n",
       "      <th>DepartureDelay</th>\n",
       "      <th>ArrivalDelay</th>\n",
       "      <th>Diverted</th>\n",
       "      <th>WeatherDelay</th>\n",
       "      <th>Awnd</th>\n",
       "      <th>Prcp</th>\n",
       "      <th>Snow</th>\n",
       "      <th>Tmax</th>\n",
       "      <th>Tmin</th>\n",
       "    </tr>\n",
       "  </thead>\n",
       "  <tbody>\n",
       "    <tr>\n",
       "      <th>count</th>\n",
       "      <td>5.714008e+06</td>\n",
       "      <td>5.714008e+06</td>\n",
       "      <td>5.714008e+06</td>\n",
       "      <td>5.714008e+06</td>\n",
       "      <td>5.714008e+06</td>\n",
       "      <td>5.714008e+06</td>\n",
       "      <td>5.714008e+06</td>\n",
       "      <td>5714008.0</td>\n",
       "      <td>5.714008e+06</td>\n",
       "      <td>3.842061e+06</td>\n",
       "      <td>3.842061e+06</td>\n",
       "      <td>3.842061e+06</td>\n",
       "      <td>3.842061e+06</td>\n",
       "      <td>3.842061e+06</td>\n",
       "    </tr>\n",
       "    <tr>\n",
       "      <th>mean</th>\n",
       "      <td>2.164384e+03</td>\n",
       "      <td>1.335066e+03</td>\n",
       "      <td>1.476373e+03</td>\n",
       "      <td>1.135116e+02</td>\n",
       "      <td>8.244569e+02</td>\n",
       "      <td>9.294842e+00</td>\n",
       "      <td>4.407057e+00</td>\n",
       "      <td>0.0</td>\n",
       "      <td>5.425671e-01</td>\n",
       "      <td>8.307327e+00</td>\n",
       "      <td>1.004309e-01</td>\n",
       "      <td>4.414667e-02</td>\n",
       "      <td>7.066978e+01</td>\n",
       "      <td>5.242765e+01</td>\n",
       "    </tr>\n",
       "    <tr>\n",
       "      <th>std</th>\n",
       "      <td>1.754706e+03</td>\n",
       "      <td>4.964198e+02</td>\n",
       "      <td>5.259730e+02</td>\n",
       "      <td>7.223082e+01</td>\n",
       "      <td>6.086620e+02</td>\n",
       "      <td>3.688972e+01</td>\n",
       "      <td>3.927130e+01</td>\n",
       "      <td>0.0</td>\n",
       "      <td>8.887775e+00</td>\n",
       "      <td>3.609315e+00</td>\n",
       "      <td>3.148156e-01</td>\n",
       "      <td>3.942573e-01</td>\n",
       "      <td>1.914503e+01</td>\n",
       "      <td>1.830704e+01</td>\n",
       "    </tr>\n",
       "    <tr>\n",
       "      <th>min</th>\n",
       "      <td>1.000000e+00</td>\n",
       "      <td>1.000000e+00</td>\n",
       "      <td>1.000000e+00</td>\n",
       "      <td>7.000000e+00</td>\n",
       "      <td>3.100000e+01</td>\n",
       "      <td>-8.200000e+01</td>\n",
       "      <td>-8.700000e+01</td>\n",
       "      <td>0.0</td>\n",
       "      <td>0.000000e+00</td>\n",
       "      <td>0.000000e+00</td>\n",
       "      <td>0.000000e+00</td>\n",
       "      <td>0.000000e+00</td>\n",
       "      <td>-1.000000e+00</td>\n",
       "      <td>-1.700000e+01</td>\n",
       "    </tr>\n",
       "    <tr>\n",
       "      <th>25%</th>\n",
       "      <td>7.280000e+02</td>\n",
       "      <td>9.210000e+02</td>\n",
       "      <td>1.058000e+03</td>\n",
       "      <td>6.000000e+01</td>\n",
       "      <td>3.730000e+02</td>\n",
       "      <td>-5.000000e+00</td>\n",
       "      <td>-1.300000e+01</td>\n",
       "      <td>0.0</td>\n",
       "      <td>0.000000e+00</td>\n",
       "      <td>5.820000e+00</td>\n",
       "      <td>0.000000e+00</td>\n",
       "      <td>0.000000e+00</td>\n",
       "      <td>6.000000e+01</td>\n",
       "      <td>4.100000e+01</td>\n",
       "    </tr>\n",
       "    <tr>\n",
       "      <th>50%</th>\n",
       "      <td>1.681000e+03</td>\n",
       "      <td>1.330000e+03</td>\n",
       "      <td>1.512000e+03</td>\n",
       "      <td>9.400000e+01</td>\n",
       "      <td>6.500000e+02</td>\n",
       "      <td>-2.000000e+00</td>\n",
       "      <td>-5.000000e+00</td>\n",
       "      <td>0.0</td>\n",
       "      <td>0.000000e+00</td>\n",
       "      <td>7.830000e+00</td>\n",
       "      <td>0.000000e+00</td>\n",
       "      <td>0.000000e+00</td>\n",
       "      <td>7.400000e+01</td>\n",
       "      <td>5.500000e+01</td>\n",
       "    </tr>\n",
       "    <tr>\n",
       "      <th>75%</th>\n",
       "      <td>3.211000e+03</td>\n",
       "      <td>1.740000e+03</td>\n",
       "      <td>1.916000e+03</td>\n",
       "      <td>1.440000e+02</td>\n",
       "      <td>1.065000e+03</td>\n",
       "      <td>7.000000e+00</td>\n",
       "      <td>8.000000e+00</td>\n",
       "      <td>0.0</td>\n",
       "      <td>0.000000e+00</td>\n",
       "      <td>1.051000e+01</td>\n",
       "      <td>2.000000e-02</td>\n",
       "      <td>0.000000e+00</td>\n",
       "      <td>8.500000e+01</td>\n",
       "      <td>6.700000e+01</td>\n",
       "    </tr>\n",
       "    <tr>\n",
       "      <th>max</th>\n",
       "      <td>9.320000e+03</td>\n",
       "      <td>2.400000e+03</td>\n",
       "      <td>2.400000e+03</td>\n",
       "      <td>6.900000e+02</td>\n",
       "      <td>4.983000e+03</td>\n",
       "      <td>1.988000e+03</td>\n",
       "      <td>1.971000e+03</td>\n",
       "      <td>0.0</td>\n",
       "      <td>1.211000e+03</td>\n",
       "      <td>2.774000e+01</td>\n",
       "      <td>7.100000e+00</td>\n",
       "      <td>2.210000e+01</td>\n",
       "      <td>1.170000e+02</td>\n",
       "      <td>9.300000e+01</td>\n",
       "    </tr>\n",
       "  </tbody>\n",
       "</table>\n",
       "</div>"
      ],
      "text/plain": [
       "       FlightNumber  DepartureTime   ArrivalTime       AirTime      Distance  \\\n",
       "count  5.714008e+06   5.714008e+06  5.714008e+06  5.714008e+06  5.714008e+06   \n",
       "mean   2.164384e+03   1.335066e+03  1.476373e+03  1.135116e+02  8.244569e+02   \n",
       "std    1.754706e+03   4.964198e+02  5.259730e+02  7.223082e+01  6.086620e+02   \n",
       "min    1.000000e+00   1.000000e+00  1.000000e+00  7.000000e+00  3.100000e+01   \n",
       "25%    7.280000e+02   9.210000e+02  1.058000e+03  6.000000e+01  3.730000e+02   \n",
       "50%    1.681000e+03   1.330000e+03  1.512000e+03  9.400000e+01  6.500000e+02   \n",
       "75%    3.211000e+03   1.740000e+03  1.916000e+03  1.440000e+02  1.065000e+03   \n",
       "max    9.320000e+03   2.400000e+03  2.400000e+03  6.900000e+02  4.983000e+03   \n",
       "\n",
       "       DepartureDelay  ArrivalDelay   Diverted  WeatherDelay          Awnd  \\\n",
       "count    5.714008e+06  5.714008e+06  5714008.0  5.714008e+06  3.842061e+06   \n",
       "mean     9.294842e+00  4.407057e+00        0.0  5.425671e-01  8.307327e+00   \n",
       "std      3.688972e+01  3.927130e+01        0.0  8.887775e+00  3.609315e+00   \n",
       "min     -8.200000e+01 -8.700000e+01        0.0  0.000000e+00  0.000000e+00   \n",
       "25%     -5.000000e+00 -1.300000e+01        0.0  0.000000e+00  5.820000e+00   \n",
       "50%     -2.000000e+00 -5.000000e+00        0.0  0.000000e+00  7.830000e+00   \n",
       "75%      7.000000e+00  8.000000e+00        0.0  0.000000e+00  1.051000e+01   \n",
       "max      1.988000e+03  1.971000e+03        0.0  1.211000e+03  2.774000e+01   \n",
       "\n",
       "               Prcp          Snow          Tmax          Tmin  \n",
       "count  3.842061e+06  3.842061e+06  3.842061e+06  3.842061e+06  \n",
       "mean   1.004309e-01  4.414667e-02  7.066978e+01  5.242765e+01  \n",
       "std    3.148156e-01  3.942573e-01  1.914503e+01  1.830704e+01  \n",
       "min    0.000000e+00  0.000000e+00 -1.000000e+00 -1.700000e+01  \n",
       "25%    0.000000e+00  0.000000e+00  6.000000e+01  4.100000e+01  \n",
       "50%    0.000000e+00  0.000000e+00  7.400000e+01  5.500000e+01  \n",
       "75%    2.000000e-02  0.000000e+00  8.500000e+01  6.700000e+01  \n",
       "max    7.100000e+00  2.210000e+01  1.170000e+02  9.300000e+01  "
      ]
     },
     "execution_count": 10,
     "metadata": {},
     "output_type": "execute_result"
    }
   ],
   "source": [
    "df.drop(['Year', 'Month', 'Day', 'DayOfWeek', 'FlightDate'], axis=1).describe()"
   ]
  },
  {
   "cell_type": "code",
   "execution_count": 15,
   "metadata": {},
   "outputs": [
    {
     "data": {
      "image/png": "[encoded data removed]",
      "text/plain": [
       "<Figure size 1080x1080 with 2 Axes>"
      ]
     },
     "metadata": {
      "needs_background": "light"
     },
     "output_type": "display_data"
    }
   ],
   "source": [
    "fig = plt.figure(figsize=(15, 15))\n",
    "\n",
    "sns.heatmap(df[['FlightNumber', 'DepartureTime', 'ArrivalTime', 'AirTime', 'Distance', \n",
    "                'DepartureDelay', 'ArrivalDelay', 'WeatherDelay', 'Delayed', 'Awnd', 'Prcp', 'Snow', 'Tmax', 'Tmin']].corr(), \n",
    "            vmin=-1, vmax=1, annot=True, cmap='coolwarm')\n",
    "\n",
    "plt.show()"
   ]
  },
  {
   "cell_type": "code",
   "execution_count": 98,
   "metadata": {},
   "outputs": [
    {
     "data": {
      "image/png": "[encoded data removed]",
      "text/plain": [
       "<Figure size 720x576 with 1 Axes>"
      ]
     },
     "metadata": {},
     "output_type": "display_data"
    }
   ],
   "source": [
    "# Delayed percentage\n",
    "delayed = len(df[df.Delayed == True]) / df.shape[0]\n",
    "not_delayed = len(df[df.Delayed == False]) / df.shape[0]\n",
    "\n",
    "# plot\n",
    "fig = plt.figure(figsize=(10, 8))\n",
    "\n",
    "sns.barplot(x=['Delayed', 'Not Delayed'], y=[delayed, not_delayed])\n",
    "\n",
    "plt.title('Percentage of delayed flights', fontsize=20)\n",
    "plt.annotate(f'{delayed:.2%}', xy=(0, delayed), xytext=(0, delayed + 0.01), ha='center', fontsize=14)\n",
    "plt.annotate(f'{not_delayed:.2%}', xy=(1, not_delayed), xytext=(1, not_delayed + 0.01), ha='center', fontsize=14)\n",
    "\n",
    "plt.show()"
   ]
  },
  {
   "cell_type": "code",
   "execution_count": 116,
   "metadata": {},
   "outputs": [
    {
     "data": {
      "application/vnd.plotly.v1+json": {
       "config": {
        "plotlyServerURL": "https://plot.ly"
       },
       "data": [
        {
         "alignmentgroup": "True",
         "hovertemplate": "color=Not Delayed<br>=%{x}<br>Number of Flights=%{y}<extra></extra>",
         "legendgroup": "Not Delayed",
         "marker": {
          "color": "rgb(0, 147, 146)",
          "pattern": {
           "shape": ""
          }
         },
         "name": "Not Delayed",
         "offsetgroup": "Not Delayed",
         "orientation": "v",
         "showlegend": true,
         "textposition": "auto",
         "type": "bar",
         "x": [
          "Not Delayed"
         ],
         "xaxis": "x",
         "y": [
          4690510
         ],
         "yaxis": "y"
        },
        {
         "alignmentgroup": "True",
         "hovertemplate": "color=Delayed<br>=%{x}<br>Number of Flights=%{y}<extra></extra>",
         "legendgroup": "Delayed",
         "marker": {
          "color": "rgb(208, 88, 126)",
          "pattern": {
           "shape": ""
          }
         },
         "name": "Delayed",
         "offsetgroup": "Delayed",
         "orientation": "v",
         "showlegend": true,
         "textposition": "auto",
         "type": "bar",
         "x": [
          "Delayed"
         ],
         "xaxis": "x",
         "y": [
          1023498
         ],
         "yaxis": "y"
        }
       ],
       "layout": {
        "annotations": [
         {
          "font": {
           "color": "#272b4f",
           "family": "Helvetica",
           "size": 24
          },
          "showarrow": false,
          "text": "82.09%",
          "x": 0,
          "y": 4890510
         },
         {
          "font": {
           "color": "#272b4f",
           "family": "Helvetica",
           "size": 24
          },
          "showarrow": false,
          "text": "17.91%",
          "x": 1,
          "y": 1223498
         }
        ],
        "barmode": "relative",
        "height": 600,
        "legend": {
         "title": {
          "text": "color"
         },
         "tracegroupgap": 0
        },
        "template": {
         "data": {
          "bar": [
           {
            "error_x": {
             "color": "#2a3f5f"
            },
            "error_y": {
             "color": "#2a3f5f"
            },
            "marker": {
             "line": {
              "color": "white",
              "width": 0.5
             },
             "pattern": {
              "fillmode": "overlay",
              "size": 10,
              "solidity": 0.2
             }
            },
            "type": "bar"
           }
          ],
          "barpolar": [
           {
            "marker": {
             "line": {
              "color": "white",
              "width": 0.5
             },
             "pattern": {
              "fillmode": "overlay",
              "size": 10,
              "solidity": 0.2
             }
            },
            "type": "barpolar"
           }
          ],
          "carpet": [
           {
            "aaxis": {
             "endlinecolor": "#2a3f5f",
             "gridcolor": "#C8D4E3",
             "linecolor": "#C8D4E3",
             "minorgridcolor": "#C8D4E3",
             "startlinecolor": "#2a3f5f"
            },
            "baxis": {
             "endlinecolor": "#2a3f5f",
             "gridcolor": "#C8D4E3",
             "linecolor": "#C8D4E3",
             "minorgridcolor": "#C8D4E3",
             "startlinecolor": "#2a3f5f"
            },
            "type": "carpet"
           }
          ],
          "choropleth": [
           {
            "colorbar": {
             "outlinewidth": 0,
             "ticks": ""
            },
            "type": "choropleth"
           }
          ],
          "contour": [
           {
            "colorbar": {
             "outlinewidth": 0,
             "ticks": ""
            },
            "colorscale": [
             [
              0,
              "#0d0887"
             ],
             [
              0.1111111111111111,
              "#46039f"
             ],
             [
              0.2222222222222222,
              "#7201a8"
             ],
             [
              0.3333333333333333,
              "#9c179e"
             ],
             [
              0.4444444444444444,
              "#bd3786"
             ],
             [
              0.5555555555555556,
              "#d8576b"
             ],
             [
              0.6666666666666666,
              "#ed7953"
             ],
             [
              0.7777777777777778,
              "#fb9f3a"
             ],
             [
              0.8888888888888888,
              "#fdca26"
             ],
             [
              1,
              "#f0f921"
             ]
            ],
            "type": "contour"
           }
          ],
          "contourcarpet": [
           {
            "colorbar": {
             "outlinewidth": 0,
             "ticks": ""
            },
            "type": "contourcarpet"
           }
          ],
          "heatmap": [
           {
            "colorbar": {
             "outlinewidth": 0,
             "ticks": ""
            },
            "colorscale": [
             [
              0,
              "#0d0887"
             ],
             [
              0.1111111111111111,
              "#46039f"
             ],
             [
              0.2222222222222222,
              "#7201a8"
             ],
             [
              0.3333333333333333,
              "#9c179e"
             ],
             [
              0.4444444444444444,
              "#bd3786"
             ],
             [
              0.5555555555555556,
              "#d8576b"
             ],
             [
              0.6666666666666666,
              "#ed7953"
             ],
             [
              0.7777777777777778,
              "#fb9f3a"
             ],
             [
              0.8888888888888888,
              "#fdca26"
             ],
             [
              1,
              "#f0f921"
             ]
            ],
            "type": "heatmap"
           }
          ],
          "heatmapgl": [
           {
            "colorbar": {
             "outlinewidth": 0,
             "ticks": ""
            },
            "colorscale": [
             [
              0,
              "#0d0887"
             ],
             [
              0.1111111111111111,
              "#46039f"
             ],
             [
              0.2222222222222222,
              "#7201a8"
             ],
             [
              0.3333333333333333,
              "#9c179e"
             ],
             [
              0.4444444444444444,
              "#bd3786"
             ],
             [
              0.5555555555555556,
              "#d8576b"
             ],
             [
              0.6666666666666666,
              "#ed7953"
             ],
             [
              0.7777777777777778,
              "#fb9f3a"
             ],
             [
              0.8888888888888888,
              "#fdca26"
             ],
             [
              1,
              "#f0f921"
             ]
            ],
            "type": "heatmapgl"
           }
          ],
          "histogram": [
           {
            "marker": {
             "pattern": {
              "fillmode": "overlay",
              "size": 10,
              "solidity": 0.2
             }
            },
            "type": "histogram"
           }
          ],
          "histogram2d": [
           {
            "colorbar": {
             "outlinewidth": 0,
             "ticks": ""
            },
            "colorscale": [
             [
              0,
              "#0d0887"
             ],
             [
              0.1111111111111111,
              "#46039f"
             ],
             [
              0.2222222222222222,
              "#7201a8"
             ],
             [
              0.3333333333333333,
              "#9c179e"
             ],
             [
              0.4444444444444444,
              "#bd3786"
             ],
             [
              0.5555555555555556,
              "#d8576b"
             ],
             [
              0.6666666666666666,
              "#ed7953"
             ],
             [
              0.7777777777777778,
              "#fb9f3a"
             ],
             [
              0.8888888888888888,
              "#fdca26"
             ],
             [
              1,
              "#f0f921"
             ]
            ],
            "type": "histogram2d"
           }
          ],
          "histogram2dcontour": [
           {
            "colorbar": {
             "outlinewidth": 0,
             "ticks": ""
            },
            "colorscale": [
             [
              0,
              "#0d0887"
             ],
             [
              0.1111111111111111,
              "#46039f"
             ],
             [
              0.2222222222222222,
              "#7201a8"
             ],
             [
              0.3333333333333333,
              "#9c179e"
             ],
             [
              0.4444444444444444,
              "#bd3786"
             ],
             [
              0.5555555555555556,
              "#d8576b"
             ],
             [
              0.6666666666666666,
              "#ed7953"
             ],
             [
              0.7777777777777778,
              "#fb9f3a"
             ],
             [
              0.8888888888888888,
              "#fdca26"
             ],
             [
              1,
              "#f0f921"
             ]
            ],
            "type": "histogram2dcontour"
           }
          ],
          "mesh3d": [
           {
            "colorbar": {
             "outlinewidth": 0,
             "ticks": ""
            },
            "type": "mesh3d"
           }
          ],
          "parcoords": [
           {
            "line": {
             "colorbar": {
              "outlinewidth": 0,
              "ticks": ""
             }
            },
            "type": "parcoords"
           }
          ],
          "pie": [
           {
            "automargin": true,
            "type": "pie"
           }
          ],
          "scatter": [
           {
            "fillpattern": {
             "fillmode": "overlay",
             "size": 10,
             "solidity": 0.2
            },
            "type": "scatter"
           }
          ],
          "scatter3d": [
           {
            "line": {
             "colorbar": {
              "outlinewidth": 0,
              "ticks": ""
             }
            },
            "marker": {
             "colorbar": {
              "outlinewidth": 0,
              "ticks": ""
             }
            },
            "type": "scatter3d"
           }
          ],
          "scattercarpet": [
           {
            "marker": {
             "colorbar": {
              "outlinewidth": 0,
              "ticks": ""
             }
            },
            "type": "scattercarpet"
           }
          ],
          "scattergeo": [
           {
            "marker": {
             "colorbar": {
              "outlinewidth": 0,
              "ticks": ""
             }
            },
            "type": "scattergeo"
           }
          ],
          "scattergl": [
           {
            "marker": {
             "colorbar": {
              "outlinewidth": 0,
              "ticks": ""
             }
            },
            "type": "scattergl"
           }
          ],
          "scattermapbox": [
           {
            "marker": {
             "colorbar": {
              "outlinewidth": 0,
              "ticks": ""
             }
            },
            "type": "scattermapbox"
           }
          ],
          "scatterpolar": [
           {
            "marker": {
             "colorbar": {
              "outlinewidth": 0,
              "ticks": ""
             }
            },
            "type": "scatterpolar"
           }
          ],
          "scatterpolargl": [
           {
            "marker": {
             "colorbar": {
              "outlinewidth": 0,
              "ticks": ""
             }
            },
            "type": "scatterpolargl"
           }
          ],
          "scatterternary": [
           {
            "marker": {
             "colorbar": {
              "outlinewidth": 0,
              "ticks": ""
             }
            },
            "type": "scatterternary"
           }
          ],
          "surface": [
           {
            "colorbar": {
             "outlinewidth": 0,
             "ticks": ""
            },
            "colorscale": [
             [
              0,
              "#0d0887"
             ],
             [
              0.1111111111111111,
              "#46039f"
             ],
             [
              0.2222222222222222,
              "#7201a8"
             ],
             [
              0.3333333333333333,
              "#9c179e"
             ],
             [
              0.4444444444444444,
              "#bd3786"
             ],
             [
              0.5555555555555556,
              "#d8576b"
             ],
             [
              0.6666666666666666,
              "#ed7953"
             ],
             [
              0.7777777777777778,
              "#fb9f3a"
             ],
             [
              0.8888888888888888,
              "#fdca26"
             ],
             [
              1,
              "#f0f921"
             ]
            ],
            "type": "surface"
           }
          ],
          "table": [
           {
            "cells": {
             "fill": {
              "color": "#EBF0F8"
             },
             "line": {
              "color": "white"
             }
            },
            "header": {
             "fill": {
              "color": "#C8D4E3"
             },
             "line": {
              "color": "white"
             }
            },
            "type": "table"
           }
          ]
         },
         "layout": {
          "annotationdefaults": {
           "arrowcolor": "#2a3f5f",
           "arrowhead": 0,
           "arrowwidth": 1
          },
          "autotypenumbers": "strict",
          "coloraxis": {
           "colorbar": {
            "outlinewidth": 0,
            "ticks": ""
           }
          },
          "colorscale": {
           "diverging": [
            [
             0,
             "#8e0152"
            ],
            [
             0.1,
             "#c51b7d"
            ],
            [
             0.2,
             "#de77ae"
            ],
            [
             0.3,
             "#f1b6da"
            ],
            [
             0.4,
             "#fde0ef"
            ],
            [
             0.5,
             "#f7f7f7"
            ],
            [
             0.6,
             "#e6f5d0"
            ],
            [
             0.7,
             "#b8e186"
            ],
            [
             0.8,
             "#7fbc41"
            ],
            [
             0.9,
             "#4d9221"
            ],
            [
             1,
             "#276419"
            ]
           ],
           "sequential": [
            [
             0,
             "#0d0887"
            ],
            [
             0.1111111111111111,
             "#46039f"
            ],
            [
             0.2222222222222222,
             "#7201a8"
            ],
            [
             0.3333333333333333,
             "#9c179e"
            ],
            [
             0.4444444444444444,
             "#bd3786"
            ],
            [
             0.5555555555555556,
             "#d8576b"
            ],
            [
             0.6666666666666666,
             "#ed7953"
            ],
            [
             0.7777777777777778,
             "#fb9f3a"
            ],
            [
             0.8888888888888888,
             "#fdca26"
            ],
            [
             1,
             "#f0f921"
            ]
           ],
           "sequentialminus": [
            [
             0,
             "#0d0887"
            ],
            [
             0.1111111111111111,
             "#46039f"
            ],
            [
             0.2222222222222222,
             "#7201a8"
            ],
            [
             0.3333333333333333,
             "#9c179e"
            ],
            [
             0.4444444444444444,
             "#bd3786"
            ],
            [
             0.5555555555555556,
             "#d8576b"
            ],
            [
             0.6666666666666666,
             "#ed7953"
            ],
            [
             0.7777777777777778,
             "#fb9f3a"
            ],
            [
             0.8888888888888888,
             "#fdca26"
            ],
            [
             1,
             "#f0f921"
            ]
           ]
          },
          "colorway": [
           "#636efa",
           "#EF553B",
           "#00cc96",
           "#ab63fa",
           "#FFA15A",
           "#19d3f3",
           "#FF6692",
           "#B6E880",
           "#FF97FF",
           "#FECB52"
          ],
          "font": {
           "color": "#2a3f5f"
          },
          "geo": {
           "bgcolor": "white",
           "lakecolor": "white",
           "landcolor": "white",
           "showlakes": true,
           "showland": true,
           "subunitcolor": "#C8D4E3"
          },
          "hoverlabel": {
           "align": "left"
          },
          "hovermode": "closest",
          "mapbox": {
           "style": "light"
          },
          "paper_bgcolor": "white",
          "plot_bgcolor": "white",
          "polar": {
           "angularaxis": {
            "gridcolor": "#EBF0F8",
            "linecolor": "#EBF0F8",
            "ticks": ""
           },
           "bgcolor": "white",
           "radialaxis": {
            "gridcolor": "#EBF0F8",
            "linecolor": "#EBF0F8",
            "ticks": ""
           }
          },
          "scene": {
           "xaxis": {
            "backgroundcolor": "white",
            "gridcolor": "#DFE8F3",
            "gridwidth": 2,
            "linecolor": "#EBF0F8",
            "showbackground": true,
            "ticks": "",
            "zerolinecolor": "#EBF0F8"
           },
           "yaxis": {
            "backgroundcolor": "white",
            "gridcolor": "#DFE8F3",
            "gridwidth": 2,
            "linecolor": "#EBF0F8",
            "showbackground": true,
            "ticks": "",
            "zerolinecolor": "#EBF0F8"
           },
           "zaxis": {
            "backgroundcolor": "white",
            "gridcolor": "#DFE8F3",
            "gridwidth": 2,
            "linecolor": "#EBF0F8",
            "showbackground": true,
            "ticks": "",
            "zerolinecolor": "#EBF0F8"
           }
          },
          "shapedefaults": {
           "line": {
            "color": "#2a3f5f"
           }
          },
          "ternary": {
           "aaxis": {
            "gridcolor": "#DFE8F3",
            "linecolor": "#A2B1C6",
            "ticks": ""
           },
           "baxis": {
            "gridcolor": "#DFE8F3",
            "linecolor": "#A2B1C6",
            "ticks": ""
           },
           "bgcolor": "white",
           "caxis": {
            "gridcolor": "#DFE8F3",
            "linecolor": "#A2B1C6",
            "ticks": ""
           }
          },
          "title": {
           "x": 0.05
          },
          "xaxis": {
           "automargin": true,
           "gridcolor": "#EBF0F8",
           "linecolor": "#EBF0F8",
           "ticks": "",
           "title": {
            "standoff": 15
           },
           "zerolinecolor": "#EBF0F8",
           "zerolinewidth": 2
          },
          "yaxis": {
           "automargin": true,
           "gridcolor": "#EBF0F8",
           "linecolor": "#EBF0F8",
           "ticks": "",
           "title": {
            "standoff": 15
           },
           "zerolinecolor": "#EBF0F8",
           "zerolinewidth": 2
          }
         }
        },
        "title": {
         "font": {
          "color": "#272b4f",
          "family": "Helvetica",
          "size": 24
         },
         "text": "<b>Number of Delayed Flights</b>",
         "x": 0.085,
         "y": 0.95
        },
        "width": 800,
        "xaxis": {
         "anchor": "y",
         "domain": [
          0,
          1
         ],
         "title": {
          "text": ""
         }
        },
        "yaxis": {
         "anchor": "x",
         "domain": [
          0,
          1
         ],
         "title": {
          "text": "Number of Flights"
         }
        }
       }
      }
     },
     "metadata": {},
     "output_type": "display_data"
    }
   ],
   "source": [
    "fig = px.bar(\n",
    "    df['Delayed'].value_counts(), \n",
    "    x=['Not Delayed', 'Delayed'], \n",
    "    y='Delayed',\n",
    "    title='Number of Delayed Flights',\n",
    "    labels={'Delayed': 'Number of Flights', 'x': ''},\n",
    "    height=600,\n",
    "    width=800,\n",
    "    color=['Not Delayed', 'Delayed'],\n",
    "    color_discrete_sequence=['rgb(0, 147, 146)', 'rgb(208, 88, 126)'],\n",
    "    template='plotly_white'\n",
    ")\n",
    "\n",
    "# add percentage annotation\n",
    "fig.add_annotation(\n",
    "    x=0,\n",
    "    y=df['Delayed'].value_counts()[0] + 200000,\n",
    "    text=f\"{df['Delayed'].value_counts()[0] / df.shape[0]:.2%}\",\n",
    "    showarrow=False,\n",
    "    font=dict(\n",
    "        family='Helvetica',\n",
    "        size=24,\n",
    "        color='#272b4f'\n",
    "    ),\n",
    ")\n",
    "\n",
    "fig.add_annotation(\n",
    "    x=1,\n",
    "    y=df['Delayed'].value_counts()[1] + 200000,\n",
    "    text=f\"{df['Delayed'].value_counts()[1] / df.shape[0]:.2%}\",\n",
    "    showarrow=False,\n",
    "    font=dict(\n",
    "        family='Helvetica',\n",
    "        size=24,\n",
    "        color='#272b4f'\n",
    "    ),\n",
    ")\n",
    "\n",
    "        \n",
    "\n",
    "fig.update_layout(\n",
    "    title=dict(\n",
    "        text = '<b>Number of Delayed Flights</b>',\n",
    "        x=0.085,\n",
    "        y=0.95,\n",
    "        font=dict(\n",
    "            family='Helvetica',\n",
    "            size=24,\n",
    "            color='#272b4f'\n",
    "        ),\n",
    "    ),\n",
    ")\n",
    "\n",
    "fig.show()"
   ]
  },
  {
   "cell_type": "code",
   "execution_count": 121,
   "metadata": {},
   "outputs": [
    {
     "data": {
      "image/png": "[encoded data removed]",
      "text/plain": [
       "<Figure size 720x576 with 1 Axes>"
      ]
     },
     "metadata": {
      "needs_background": "light"
     },
     "output_type": "display_data"
    }
   ],
   "source": [
    "fig = plt.figure(figsize=(10, 8))\n",
    "\n",
    "sns.countplot(x='Month', hue='Delayed', data=df)\n",
    "\n",
    "plt.title('Delayed flights by month', fontsize=20)\n",
    "plt.xticks([0, 1, 2, 3, 4, 5, 6, 7, 8, 9, 10, 11], ['Jan', 'Feb', 'Mar', 'Apr', 'May', 'Jun', 'Jul', 'Aug', 'Sep', 'Oct', 'Nov', 'Dec'])\n",
    "plt.show()"
   ]
  },
  {
   "cell_type": "code",
   "execution_count": 100,
   "metadata": {},
   "outputs": [
    {
     "data": {
      "image/png": "[encoded data removed]",
      "text/plain": [
       "<Figure size 720x576 with 1 Axes>"
      ]
     },
     "metadata": {},
     "output_type": "display_data"
    }
   ],
   "source": [
    "fig = plt.figure(figsize=(10, 8))\n",
    "\n",
    "sns.countplot(x='DayOfWeek', hue='Delayed', data=df)\n",
    "\n",
    "plt.title('Delayed flights by day of week', fontsize=20)\n",
    "plt.xticks([0, 1, 2, 3, 4, 5, 6], ['Mon', 'Tue', 'Wed', 'Thu', 'Fri', 'Sat', 'Sun'])\n",
    "plt.show()"
   ]
  },
  {
   "cell_type": "code",
   "execution_count": 33,
   "metadata": {},
   "outputs": [
    {
     "data": {
      "text/html": [
       "<div>\n",
       "<style scoped>\n",
       "    .dataframe tbody tr th:only-of-type {\n",
       "        vertical-align: middle;\n",
       "    }\n",
       "\n",
       "    .dataframe tbody tr th {\n",
       "        vertical-align: top;\n",
       "    }\n",
       "\n",
       "    .dataframe thead th {\n",
       "        text-align: right;\n",
       "    }\n",
       "</style>\n",
       "<table border=\"1\" class=\"dataframe\">\n",
       "  <thead>\n",
       "    <tr style=\"text-align: right;\">\n",
       "      <th></th>\n",
       "      <th>Delayed</th>\n",
       "      <th>Total</th>\n",
       "      <th>NotDelayed</th>\n",
       "      <th>DelayedPercent</th>\n",
       "    </tr>\n",
       "    <tr>\n",
       "      <th>AirlineName</th>\n",
       "      <th></th>\n",
       "      <th></th>\n",
       "      <th></th>\n",
       "      <th></th>\n",
       "    </tr>\n",
       "  </thead>\n",
       "  <tbody>\n",
       "    <tr>\n",
       "      <th>Spirit Air Lines</th>\n",
       "      <td>33166</td>\n",
       "      <td>115193</td>\n",
       "      <td>82027</td>\n",
       "      <td>0.287917</td>\n",
       "    </tr>\n",
       "    <tr>\n",
       "      <th>Frontier Airlines Inc.</th>\n",
       "      <td>22851</td>\n",
       "      <td>90090</td>\n",
       "      <td>67239</td>\n",
       "      <td>0.253646</td>\n",
       "    </tr>\n",
       "    <tr>\n",
       "      <th>JetBlue Airways</th>\n",
       "      <td>57257</td>\n",
       "      <td>262042</td>\n",
       "      <td>204785</td>\n",
       "      <td>0.218503</td>\n",
       "    </tr>\n",
       "    <tr>\n",
       "      <th>American Eagle Airlines Inc.</th>\n",
       "      <td>58623</td>\n",
       "      <td>278791</td>\n",
       "      <td>220168</td>\n",
       "      <td>0.210276</td>\n",
       "    </tr>\n",
       "    <tr>\n",
       "      <th>United Air Lines Inc.</th>\n",
       "      <td>101303</td>\n",
       "      <td>507762</td>\n",
       "      <td>406459</td>\n",
       "      <td>0.199509</td>\n",
       "    </tr>\n",
       "    <tr>\n",
       "      <th>Atlantic Southeast Airlines</th>\n",
       "      <td>105331</td>\n",
       "      <td>554752</td>\n",
       "      <td>449421</td>\n",
       "      <td>0.189870</td>\n",
       "    </tr>\n",
       "    <tr>\n",
       "      <th>Virgin America</th>\n",
       "      <td>11348</td>\n",
       "      <td>61248</td>\n",
       "      <td>49900</td>\n",
       "      <td>0.185280</td>\n",
       "    </tr>\n",
       "    <tr>\n",
       "      <th>Southwest Airlines Co.</th>\n",
       "      <td>227317</td>\n",
       "      <td>1242403</td>\n",
       "      <td>1015086</td>\n",
       "      <td>0.182966</td>\n",
       "    </tr>\n",
       "    <tr>\n",
       "      <th>Skywest Airlines Inc.</th>\n",
       "      <td>103850</td>\n",
       "      <td>576814</td>\n",
       "      <td>472964</td>\n",
       "      <td>0.180041</td>\n",
       "    </tr>\n",
       "    <tr>\n",
       "      <th>US Airways Inc.</th>\n",
       "      <td>34930</td>\n",
       "      <td>194223</td>\n",
       "      <td>159293</td>\n",
       "      <td>0.179845</td>\n",
       "    </tr>\n",
       "    <tr>\n",
       "      <th>American Airlines Inc.</th>\n",
       "      <td>125238</td>\n",
       "      <td>712935</td>\n",
       "      <td>587697</td>\n",
       "      <td>0.175665</td>\n",
       "    </tr>\n",
       "    <tr>\n",
       "      <th>Delta Air Lines Inc.</th>\n",
       "      <td>113112</td>\n",
       "      <td>870275</td>\n",
       "      <td>757163</td>\n",
       "      <td>0.129973</td>\n",
       "    </tr>\n",
       "    <tr>\n",
       "      <th>Alaska Airlines Inc.</th>\n",
       "      <td>21162</td>\n",
       "      <td>171439</td>\n",
       "      <td>150277</td>\n",
       "      <td>0.123437</td>\n",
       "    </tr>\n",
       "    <tr>\n",
       "      <th>Hawaiian Airlines Inc.</th>\n",
       "      <td>8010</td>\n",
       "      <td>76041</td>\n",
       "      <td>68031</td>\n",
       "      <td>0.105338</td>\n",
       "    </tr>\n",
       "  </tbody>\n",
       "</table>\n",
       "</div>"
      ],
      "text/plain": [
       "                              Delayed    Total  NotDelayed  DelayedPercent\n",
       "AirlineName                                                               \n",
       "Spirit Air Lines                33166   115193       82027        0.287917\n",
       "Frontier Airlines Inc.          22851    90090       67239        0.253646\n",
       "JetBlue Airways                 57257   262042      204785        0.218503\n",
       "American Eagle Airlines Inc.    58623   278791      220168        0.210276\n",
       "United Air Lines Inc.          101303   507762      406459        0.199509\n",
       "Atlantic Southeast Airlines    105331   554752      449421        0.189870\n",
       "Virgin America                  11348    61248       49900        0.185280\n",
       "Southwest Airlines Co.         227317  1242403     1015086        0.182966\n",
       "Skywest Airlines Inc.          103850   576814      472964        0.180041\n",
       "US Airways Inc.                 34930   194223      159293        0.179845\n",
       "American Airlines Inc.         125238   712935      587697        0.175665\n",
       "Delta Air Lines Inc.           113112   870275      757163        0.129973\n",
       "Alaska Airlines Inc.            21162   171439      150277        0.123437\n",
       "Hawaiian Airlines Inc.           8010    76041       68031        0.105338"
      ]
     },
     "execution_count": 33,
     "metadata": {},
     "output_type": "execute_result"
    }
   ],
   "source": [
    "delayed_by_airline = df.groupby('AirlineName').agg({'Delayed': 'sum', 'AirlineName': 'count'})\n",
    "delayed_by_airline['NotDelayed'] = delayed_by_airline['AirlineName'] - delayed_by_airline['Delayed']\n",
    "delayed_by_airline.columns = ['Delayed', 'Total', 'NotDelayed']\n",
    "delayed_by_airline['DelayedPercent'] = delayed_by_airline['Delayed'] / delayed_by_airline['Total']\n",
    "\n",
    "delayed_by_airline.sort_values(by='DelayedPercent', ascending=False)"
   ]
  },
  {
   "cell_type": "code",
   "execution_count": 122,
   "metadata": {},
   "outputs": [
    {
     "data": {
      "application/vnd.plotly.v1+json": {
       "config": {
        "plotlyServerURL": "https://plot.ly"
       },
       "data": [
        {
         "alignmentgroup": "True",
         "hovertemplate": "Airline=%{x}<br>DelayedPercent=%{marker.color}<extra></extra>",
         "legendgroup": "",
         "marker": {
          "color": [
           0.10533790981181206,
           0.1234374908859711,
           0.12997270977564562,
           0.1756653832397063,
           0.17984481755507845,
           0.180040706362883,
           0.18296559167999432,
           0.18527951933124348,
           0.18987042858790956,
           0.1995088250006893,
           0.21027579799921806,
           0.2185031407179002,
           0.25364635364635363,
           0.2879168005000304
          ],
          "coloraxis": "coloraxis",
          "pattern": {
           "shape": ""
          }
         },
         "name": "",
         "offsetgroup": "",
         "orientation": "v",
         "showlegend": false,
         "textposition": "auto",
         "type": "bar",
         "x": [
          "Hawaiian Airlines Inc.",
          "Alaska Airlines Inc.",
          "Delta Air Lines Inc.",
          "American Airlines Inc.",
          "US Airways Inc.",
          "Skywest Airlines Inc.",
          "Southwest Airlines Co.",
          "Virgin America",
          "Atlantic Southeast Airlines",
          "United Air Lines Inc.",
          "American Eagle Airlines Inc.",
          "JetBlue Airways",
          "Frontier Airlines Inc.",
          "Spirit Air Lines"
         ],
         "xaxis": "x",
         "y": [
          0.10533790981181206,
          0.1234374908859711,
          0.12997270977564562,
          0.1756653832397063,
          0.17984481755507845,
          0.180040706362883,
          0.18296559167999432,
          0.18527951933124348,
          0.18987042858790956,
          0.1995088250006893,
          0.21027579799921806,
          0.2185031407179002,
          0.25364635364635363,
          0.2879168005000304
         ],
         "yaxis": "y"
        }
       ],
       "layout": {
        "annotations": [
         {
          "arrowhead": 1,
          "bgcolor": "white",
          "bordercolor": "black",
          "borderpad": 5,
          "font": {
           "color": "#272b4f",
           "family": "Helvetica",
           "size": 12
          },
          "showarrow": true,
          "text": "Average: 18.73%",
          "textangle": 0,
          "x": 0.5,
          "xanchor": "left",
          "y": 0.1903046767924597
         },
         {
          "font": {
           "color": "#272b4f",
           "family": "Helvetica",
           "size": 12
          },
          "showarrow": false,
          "text": "10.53%",
          "x": "Hawaiian Airlines Inc.",
          "y": 0.11233790981181206
         },
         {
          "font": {
           "color": "#272b4f",
           "family": "Helvetica",
           "size": 12
          },
          "showarrow": false,
          "text": "12.34%",
          "x": "Alaska Airlines Inc.",
          "y": 0.1304374908859711
         },
         {
          "font": {
           "color": "#272b4f",
           "family": "Helvetica",
           "size": 12
          },
          "showarrow": false,
          "text": "13.00%",
          "x": "Delta Air Lines Inc.",
          "y": 0.13697270977564563
         },
         {
          "font": {
           "color": "#ff5252",
           "family": "Helvetica",
           "size": 12
          },
          "showarrow": false,
          "text": "21.85%",
          "x": "JetBlue Airways",
          "y": 0.2255031407179002
         },
         {
          "font": {
           "color": "#ff5252",
           "family": "Helvetica",
           "size": 12
          },
          "showarrow": false,
          "text": "25.36%",
          "x": "Frontier Airlines Inc.",
          "y": 0.26064635364635363
         },
         {
          "font": {
           "color": "#ff5252",
           "family": "Helvetica",
           "size": 12
          },
          "showarrow": false,
          "text": "28.79%",
          "x": "Spirit Air Lines",
          "y": 0.2949168005000304
         }
        ],
        "barmode": "relative",
        "coloraxis": {
         "colorbar": {
          "title": {
           "text": "DelayedPercent"
          }
         },
         "colorscale": [
          [
           0,
           "rgb(0, 147, 146)"
          ],
          [
           0.16666666666666666,
           "rgb(114, 170, 161)"
          ],
          [
           0.3333333333333333,
           "rgb(177, 199, 179)"
          ],
          [
           0.5,
           "rgb(241, 234, 200)"
          ],
          [
           0.6666666666666666,
           "rgb(229, 185, 173)"
          ],
          [
           0.8333333333333334,
           "rgb(217, 137, 148)"
          ],
          [
           1,
           "rgb(208, 88, 126)"
          ]
         ]
        },
        "height": 600,
        "legend": {
         "tracegroupgap": 0
        },
        "shapes": [
         {
          "line": {
           "color": "black",
           "dash": "dash",
           "width": 1
          },
          "type": "line",
          "x0": 0,
          "x1": 1,
          "xref": "x domain",
          "y0": 0.18730467679245968,
          "y1": 0.18730467679245968,
          "yref": "y"
         }
        ],
        "template": {
         "data": {
          "bar": [
           {
            "error_x": {
             "color": "#2a3f5f"
            },
            "error_y": {
             "color": "#2a3f5f"
            },
            "marker": {
             "line": {
              "color": "white",
              "width": 0.5
             },
             "pattern": {
              "fillmode": "overlay",
              "size": 10,
              "solidity": 0.2
             }
            },
            "type": "bar"
           }
          ],
          "barpolar": [
           {
            "marker": {
             "line": {
              "color": "white",
              "width": 0.5
             },
             "pattern": {
              "fillmode": "overlay",
              "size": 10,
              "solidity": 0.2
             }
            },
            "type": "barpolar"
           }
          ],
          "carpet": [
           {
            "aaxis": {
             "endlinecolor": "#2a3f5f",
             "gridcolor": "#C8D4E3",
             "linecolor": "#C8D4E3",
             "minorgridcolor": "#C8D4E3",
             "startlinecolor": "#2a3f5f"
            },
            "baxis": {
             "endlinecolor": "#2a3f5f",
             "gridcolor": "#C8D4E3",
             "linecolor": "#C8D4E3",
             "minorgridcolor": "#C8D4E3",
             "startlinecolor": "#2a3f5f"
            },
            "type": "carpet"
           }
          ],
          "choropleth": [
           {
            "colorbar": {
             "outlinewidth": 0,
             "ticks": ""
            },
            "type": "choropleth"
           }
          ],
          "contour": [
           {
            "colorbar": {
             "outlinewidth": 0,
             "ticks": ""
            },
            "colorscale": [
             [
              0,
              "#0d0887"
             ],
             [
              0.1111111111111111,
              "#46039f"
             ],
             [
              0.2222222222222222,
              "#7201a8"
             ],
             [
              0.3333333333333333,
              "#9c179e"
             ],
             [
              0.4444444444444444,
              "#bd3786"
             ],
             [
              0.5555555555555556,
              "#d8576b"
             ],
             [
              0.6666666666666666,
              "#ed7953"
             ],
             [
              0.7777777777777778,
              "#fb9f3a"
             ],
             [
              0.8888888888888888,
              "#fdca26"
             ],
             [
              1,
              "#f0f921"
             ]
            ],
            "type": "contour"
           }
          ],
          "contourcarpet": [
           {
            "colorbar": {
             "outlinewidth": 0,
             "ticks": ""
            },
            "type": "contourcarpet"
           }
          ],
          "heatmap": [
           {
            "colorbar": {
             "outlinewidth": 0,
             "ticks": ""
            },
            "colorscale": [
             [
              0,
              "#0d0887"
             ],
             [
              0.1111111111111111,
              "#46039f"
             ],
             [
              0.2222222222222222,
              "#7201a8"
             ],
             [
              0.3333333333333333,
              "#9c179e"
             ],
             [
              0.4444444444444444,
              "#bd3786"
             ],
             [
              0.5555555555555556,
              "#d8576b"
             ],
             [
              0.6666666666666666,
              "#ed7953"
             ],
             [
              0.7777777777777778,
              "#fb9f3a"
             ],
             [
              0.8888888888888888,
              "#fdca26"
             ],
             [
              1,
              "#f0f921"
             ]
            ],
            "type": "heatmap"
           }
          ],
          "heatmapgl": [
           {
            "colorbar": {
             "outlinewidth": 0,
             "ticks": ""
            },
            "colorscale": [
             [
              0,
              "#0d0887"
             ],
             [
              0.1111111111111111,
              "#46039f"
             ],
             [
              0.2222222222222222,
              "#7201a8"
             ],
             [
              0.3333333333333333,
              "#9c179e"
             ],
             [
              0.4444444444444444,
              "#bd3786"
             ],
             [
              0.5555555555555556,
              "#d8576b"
             ],
             [
              0.6666666666666666,
              "#ed7953"
             ],
             [
              0.7777777777777778,
              "#fb9f3a"
             ],
             [
              0.8888888888888888,
              "#fdca26"
             ],
             [
              1,
              "#f0f921"
             ]
            ],
            "type": "heatmapgl"
           }
          ],
          "histogram": [
           {
            "marker": {
             "pattern": {
              "fillmode": "overlay",
              "size": 10,
              "solidity": 0.2
             }
            },
            "type": "histogram"
           }
          ],
          "histogram2d": [
           {
            "colorbar": {
             "outlinewidth": 0,
             "ticks": ""
            },
            "colorscale": [
             [
              0,
              "#0d0887"
             ],
             [
              0.1111111111111111,
              "#46039f"
             ],
             [
              0.2222222222222222,
              "#7201a8"
             ],
             [
              0.3333333333333333,
              "#9c179e"
             ],
             [
              0.4444444444444444,
              "#bd3786"
             ],
             [
              0.5555555555555556,
              "#d8576b"
             ],
             [
              0.6666666666666666,
              "#ed7953"
             ],
             [
              0.7777777777777778,
              "#fb9f3a"
             ],
             [
              0.8888888888888888,
              "#fdca26"
             ],
             [
              1,
              "#f0f921"
             ]
            ],
            "type": "histogram2d"
           }
          ],
          "histogram2dcontour": [
           {
            "colorbar": {
             "outlinewidth": 0,
             "ticks": ""
            },
            "colorscale": [
             [
              0,
              "#0d0887"
             ],
             [
              0.1111111111111111,
              "#46039f"
             ],
             [
              0.2222222222222222,
              "#7201a8"
             ],
             [
              0.3333333333333333,
              "#9c179e"
             ],
             [
              0.4444444444444444,
              "#bd3786"
             ],
             [
              0.5555555555555556,
              "#d8576b"
             ],
             [
              0.6666666666666666,
              "#ed7953"
             ],
             [
              0.7777777777777778,
              "#fb9f3a"
             ],
             [
              0.8888888888888888,
              "#fdca26"
             ],
             [
              1,
              "#f0f921"
             ]
            ],
            "type": "histogram2dcontour"
           }
          ],
          "mesh3d": [
           {
            "colorbar": {
             "outlinewidth": 0,
             "ticks": ""
            },
            "type": "mesh3d"
           }
          ],
          "parcoords": [
           {
            "line": {
             "colorbar": {
              "outlinewidth": 0,
              "ticks": ""
             }
            },
            "type": "parcoords"
           }
          ],
          "pie": [
           {
            "automargin": true,
            "type": "pie"
           }
          ],
          "scatter": [
           {
            "fillpattern": {
             "fillmode": "overlay",
             "size": 10,
             "solidity": 0.2
            },
            "type": "scatter"
           }
          ],
          "scatter3d": [
           {
            "line": {
             "colorbar": {
              "outlinewidth": 0,
              "ticks": ""
             }
            },
            "marker": {
             "colorbar": {
              "outlinewidth": 0,
              "ticks": ""
             }
            },
            "type": "scatter3d"
           }
          ],
          "scattercarpet": [
           {
            "marker": {
             "colorbar": {
              "outlinewidth": 0,
              "ticks": ""
             }
            },
            "type": "scattercarpet"
           }
          ],
          "scattergeo": [
           {
            "marker": {
             "colorbar": {
              "outlinewidth": 0,
              "ticks": ""
             }
            },
            "type": "scattergeo"
           }
          ],
          "scattergl": [
           {
            "marker": {
             "colorbar": {
              "outlinewidth": 0,
              "ticks": ""
             }
            },
            "type": "scattergl"
           }
          ],
          "scattermapbox": [
           {
            "marker": {
             "colorbar": {
              "outlinewidth": 0,
              "ticks": ""
             }
            },
            "type": "scattermapbox"
           }
          ],
          "scatterpolar": [
           {
            "marker": {
             "colorbar": {
              "outlinewidth": 0,
              "ticks": ""
             }
            },
            "type": "scatterpolar"
           }
          ],
          "scatterpolargl": [
           {
            "marker": {
             "colorbar": {
              "outlinewidth": 0,
              "ticks": ""
             }
            },
            "type": "scatterpolargl"
           }
          ],
          "scatterternary": [
           {
            "marker": {
             "colorbar": {
              "outlinewidth": 0,
              "ticks": ""
             }
            },
            "type": "scatterternary"
           }
          ],
          "surface": [
           {
            "colorbar": {
             "outlinewidth": 0,
             "ticks": ""
            },
            "colorscale": [
             [
              0,
              "#0d0887"
             ],
             [
              0.1111111111111111,
              "#46039f"
             ],
             [
              0.2222222222222222,
              "#7201a8"
             ],
             [
              0.3333333333333333,
              "#9c179e"
             ],
             [
              0.4444444444444444,
              "#bd3786"
             ],
             [
              0.5555555555555556,
              "#d8576b"
             ],
             [
              0.6666666666666666,
              "#ed7953"
             ],
             [
              0.7777777777777778,
              "#fb9f3a"
             ],
             [
              0.8888888888888888,
              "#fdca26"
             ],
             [
              1,
              "#f0f921"
             ]
            ],
            "type": "surface"
           }
          ],
          "table": [
           {
            "cells": {
             "fill": {
              "color": "#EBF0F8"
             },
             "line": {
              "color": "white"
             }
            },
            "header": {
             "fill": {
              "color": "#C8D4E3"
             },
             "line": {
              "color": "white"
             }
            },
            "type": "table"
           }
          ]
         },
         "layout": {
          "annotationdefaults": {
           "arrowcolor": "#2a3f5f",
           "arrowhead": 0,
           "arrowwidth": 1
          },
          "autotypenumbers": "strict",
          "coloraxis": {
           "colorbar": {
            "outlinewidth": 0,
            "ticks": ""
           }
          },
          "colorscale": {
           "diverging": [
            [
             0,
             "#8e0152"
            ],
            [
             0.1,
             "#c51b7d"
            ],
            [
             0.2,
             "#de77ae"
            ],
            [
             0.3,
             "#f1b6da"
            ],
            [
             0.4,
             "#fde0ef"
            ],
            [
             0.5,
             "#f7f7f7"
            ],
            [
             0.6,
             "#e6f5d0"
            ],
            [
             0.7,
             "#b8e186"
            ],
            [
             0.8,
             "#7fbc41"
            ],
            [
             0.9,
             "#4d9221"
            ],
            [
             1,
             "#276419"
            ]
           ],
           "sequential": [
            [
             0,
             "#0d0887"
            ],
            [
             0.1111111111111111,
             "#46039f"
            ],
            [
             0.2222222222222222,
             "#7201a8"
            ],
            [
             0.3333333333333333,
             "#9c179e"
            ],
            [
             0.4444444444444444,
             "#bd3786"
            ],
            [
             0.5555555555555556,
             "#d8576b"
            ],
            [
             0.6666666666666666,
             "#ed7953"
            ],
            [
             0.7777777777777778,
             "#fb9f3a"
            ],
            [
             0.8888888888888888,
             "#fdca26"
            ],
            [
             1,
             "#f0f921"
            ]
           ],
           "sequentialminus": [
            [
             0,
             "#0d0887"
            ],
            [
             0.1111111111111111,
             "#46039f"
            ],
            [
             0.2222222222222222,
             "#7201a8"
            ],
            [
             0.3333333333333333,
             "#9c179e"
            ],
            [
             0.4444444444444444,
             "#bd3786"
            ],
            [
             0.5555555555555556,
             "#d8576b"
            ],
            [
             0.6666666666666666,
             "#ed7953"
            ],
            [
             0.7777777777777778,
             "#fb9f3a"
            ],
            [
             0.8888888888888888,
             "#fdca26"
            ],
            [
             1,
             "#f0f921"
            ]
           ]
          },
          "colorway": [
           "#636efa",
           "#EF553B",
           "#00cc96",
           "#ab63fa",
           "#FFA15A",
           "#19d3f3",
           "#FF6692",
           "#B6E880",
           "#FF97FF",
           "#FECB52"
          ],
          "font": {
           "color": "#2a3f5f"
          },
          "geo": {
           "bgcolor": "white",
           "lakecolor": "white",
           "landcolor": "white",
           "showlakes": true,
           "showland": true,
           "subunitcolor": "#C8D4E3"
          },
          "hoverlabel": {
           "align": "left"
          },
          "hovermode": "closest",
          "mapbox": {
           "style": "light"
          },
          "paper_bgcolor": "white",
          "plot_bgcolor": "white",
          "polar": {
           "angularaxis": {
            "gridcolor": "#EBF0F8",
            "linecolor": "#EBF0F8",
            "ticks": ""
           },
           "bgcolor": "white",
           "radialaxis": {
            "gridcolor": "#EBF0F8",
            "linecolor": "#EBF0F8",
            "ticks": ""
           }
          },
          "scene": {
           "xaxis": {
            "backgroundcolor": "white",
            "gridcolor": "#DFE8F3",
            "gridwidth": 2,
            "linecolor": "#EBF0F8",
            "showbackground": true,
            "ticks": "",
            "zerolinecolor": "#EBF0F8"
           },
           "yaxis": {
            "backgroundcolor": "white",
            "gridcolor": "#DFE8F3",
            "gridwidth": 2,
            "linecolor": "#EBF0F8",
            "showbackground": true,
            "ticks": "",
            "zerolinecolor": "#EBF0F8"
           },
           "zaxis": {
            "backgroundcolor": "white",
            "gridcolor": "#DFE8F3",
            "gridwidth": 2,
            "linecolor": "#EBF0F8",
            "showbackground": true,
            "ticks": "",
            "zerolinecolor": "#EBF0F8"
           }
          },
          "shapedefaults": {
           "line": {
            "color": "#2a3f5f"
           }
          },
          "ternary": {
           "aaxis": {
            "gridcolor": "#DFE8F3",
            "linecolor": "#A2B1C6",
            "ticks": ""
           },
           "baxis": {
            "gridcolor": "#DFE8F3",
            "linecolor": "#A2B1C6",
            "ticks": ""
           },
           "bgcolor": "white",
           "caxis": {
            "gridcolor": "#DFE8F3",
            "linecolor": "#A2B1C6",
            "ticks": ""
           }
          },
          "title": {
           "x": 0.05
          },
          "xaxis": {
           "automargin": true,
           "gridcolor": "#EBF0F8",
           "linecolor": "#EBF0F8",
           "ticks": "",
           "title": {
            "standoff": 15
           },
           "zerolinecolor": "#EBF0F8",
           "zerolinewidth": 2
          },
          "yaxis": {
           "automargin": true,
           "gridcolor": "#EBF0F8",
           "linecolor": "#EBF0F8",
           "ticks": "",
           "title": {
            "standoff": 15
           },
           "zerolinecolor": "#EBF0F8",
           "zerolinewidth": 2
          }
         }
        },
        "title": {
         "font": {
          "color": "#272b4f",
          "family": "Helvetica",
          "size": 24
         },
         "text": "<b>Delayed Flights By Airline</b>",
         "x": 0.085,
         "y": 0.95
        },
        "width": 800,
        "xaxis": {
         "anchor": "y",
         "domain": [
          0,
          1
         ],
         "title": {
          "text": "Airline"
         }
        },
        "yaxis": {
         "anchor": "x",
         "domain": [
          0,
          1
         ],
         "title": {
          "text": "DelayedPercent"
         }
        }
       }
      }
     },
     "metadata": {},
     "output_type": "display_data"
    }
   ],
   "source": [
    "fig = px.bar(\n",
    "    delayed_by_airline.sort_values(by='DelayedPercent', ascending=True),\n",
    "    x=delayed_by_airline.sort_values(by='DelayedPercent', ascending=True).index,\n",
    "    y='DelayedPercent',\n",
    "    title='<b>Delayed Flights By Airline</b>',\n",
    "    labels={'x': 'Airline', 'y': 'Delayed Percentage'},\n",
    "    width=800,\n",
    "    height=600,\n",
    "    color='DelayedPercent',\n",
    "    color_continuous_scale=px.colors.diverging.Tealrose,\n",
    "    template='plotly_white',\n",
    ")\n",
    "\n",
    "fig.add_hline(y=delayed_by_airline['DelayedPercent'].mean(), line_width=1, line_dash='dash', line_color='black')\n",
    "fig.add_annotation(\n",
    "    x=0.5, \n",
    "    y=delayed_by_airline['DelayedPercent'].mean() + 0.003, \n",
    "    text=f'Average: {delayed_by_airline[\"DelayedPercent\"].mean():.2%}', \n",
    "    textangle=0,\n",
    "    xanchor='left',\n",
    "    font=dict(\n",
    "        family='Helvetica',\n",
    "        size=12,\n",
    "        color='#272b4f'\n",
    "    ),\n",
    "    bordercolor='black',\n",
    "    borderpad=5,\n",
    "    bgcolor='white',\n",
    "    showarrow=True,\n",
    "    arrowhead=1,\n",
    ")\n",
    "\n",
    "for index, airline in enumerate(delayed_by_airline.sort_values(by='DelayedPercent', ascending=True).index):\n",
    "    if index in [0, 1, 2, 11, 12, 13]:\n",
    "        fig.add_annotation(\n",
    "            x=airline, \n",
    "            y=delayed_by_airline.loc[airline, 'DelayedPercent'] + 0.007, \n",
    "            text=f'{delayed_by_airline.loc[airline, \"DelayedPercent\"]:.2%}', \n",
    "            font=dict(\n",
    "                family='Helvetica',\n",
    "                size=12,\n",
    "                color='#272b4f' if delayed_by_airline.loc[airline, 'DelayedPercent'] < delayed_by_airline['DelayedPercent'].mean() else '#ff5252'\n",
    "            ),\n",
    "            showarrow=False,\n",
    "        )\n",
    "\n",
    "fig.update_layout(\n",
    "    title=dict(\n",
    "        text = '<b>Delayed Flights By Airline</b>',\n",
    "        x=0.085,\n",
    "        y=0.95,\n",
    "        font=dict(\n",
    "            family='Helvetica',\n",
    "            size=24,\n",
    "            color='#272b4f'\n",
    "        ),\n",
    "    ),\n",
    ")\n",
    "\n",
    "fig.show()"
   ]
  },
  {
   "cell_type": "code",
   "execution_count": 102,
   "metadata": {},
   "outputs": [
    {
     "data": {
      "image/png": "[encoded data removed]",
      "text/plain": [
       "<Figure size 720x576 with 1 Axes>"
      ]
     },
     "metadata": {},
     "output_type": "display_data"
    }
   ],
   "source": [
    "fig = plt.figure(figsize=(10, 8))\n",
    "\n",
    "sns.barplot(x=delayed_by_airline.index, y='DelayedPercent', data=delayed_by_airline, order=delayed_by_airline.sort_values('DelayedPercent').index)\n",
    "\n",
    "plt.hlines(delayed_by_airline.DelayedPercent.mean(), 0, 14, linestyles='dashed')\n",
    "plt.text(0, delayed_by_airline.DelayedPercent.mean() + .005, 'Average', fontsize=12)\n",
    "\n",
    "plt.xticks(rotation=90)\n",
    "plt.yticks([.05, .1, .15, .2, .25, .3], ['5%', '10%', '15%', '20%', '25%', '30%'])\n",
    "\n",
    "plt.title('Delayed flights by airline', fontsize=20)\n",
    "\n",
    "plt.show()"
   ]
  },
  {
   "cell_type": "code",
   "execution_count": 103,
   "metadata": {},
   "outputs": [
    {
     "data": {
      "image/png": "[encoded data removed]",
      "text/plain": [
       "<Figure size 432x288 with 1 Axes>"
      ]
     },
     "metadata": {},
     "output_type": "display_data"
    }
   ],
   "source": [
    "sns.scatterplot(x='DepartureDelay', y='ArrivalDelay', hue='Delayed', data=df)\n",
    "plt.show()"
   ]
  },
  {
   "cell_type": "code",
   "execution_count": 123,
   "metadata": {},
   "outputs": [],
   "source": [
    "# Awnd\tPrcp\tSnow\n",
    "fig, ax = plt.subplots(1, 3, figsize=(15, 5))\n",
    "\n",
    "sns.scatterplot(x='Awnd', y='WeatherDelay', hue='Delayed', data=df, ax=ax[0])\n",
    "sns.scatterplot(x='Prcp', y='WeatherDelay', hue='Delayed', data=df, ax=ax[1])\n",
    "sns.scatterplot(x='Snow', y='WeatherDelay', hue='Delayed', data=df, ax=ax[2])\n",
    "\n",
    "plt.show()"
   ]
  },
  {
   "cell_type": "code",
   "execution_count": null,
   "metadata": {},
   "outputs": [
    {
     "data": {
      "image/png": "[encoded data removed]",
      "text/plain": [
       "<Figure size 1440x1440 with 2 Axes>"
      ]
     },
     "metadata": {
      "needs_background": "light"
     },
     "output_type": "display_data"
    }
   ],
   "source": [
    "fig = plt.figure(figsize=(20, 20))\n",
    "\n",
    "sns.heatmap(df.drop(['Diverted', 'Year'], axis=1).corr(), annot=True, cmap='coolwarm')\n",
    "\n",
    "plt.show()"
   ]
  }
 ],
 "metadata": {
  "kernelspec": {
   "display_name": "Python 3",
   "language": "python",
   "name": "python3"
  },
  "language_info": {
   "codemirror_mode": {
    "name": "ipython",
    "version": 3
   },
   "file_extension": ".py",
   "mimetype": "text/x-python",
   "name": "python",
   "nbconvert_exporter": "python",
   "pygments_lexer": "ipython3",
   "version": "3.10.3"
  },
  "orig_nbformat": 4
 },
 "nbformat": 4,
 "nbformat_minor": 2
}
